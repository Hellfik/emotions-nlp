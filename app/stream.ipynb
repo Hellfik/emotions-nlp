{
 "cells": [
  {
   "cell_type": "code",
   "metadata": {
    "tags": [],
    "cell_id": "00000-a7d3178e-b193-4609-a4aa-e6b5da4c1e56",
    "deepnote_to_be_reexecuted": false,
    "source_hash": "19c47680",
    "execution_start": 1622542870902,
    "execution_millis": 3263,
    "deepnote_cell_type": "code"
   },
   "source": "!pip install -q streamlit",
   "execution_count": 1,
   "outputs": []
  },
  {
   "cell_type": "code",
   "metadata": {
    "tags": [],
    "cell_id": "00001-1842fd1a-adc3-4a91-be38-9c938802a308",
    "deepnote_to_be_reexecuted": false,
    "source_hash": "e066e58",
    "execution_start": 1622542874171,
    "execution_millis": 954,
    "deepnote_cell_type": "code"
   },
   "source": "!wget https://bin.equinox.io/c/4VmDzA7iaHb/ngrok-stable-linux-amd64.zip",
   "execution_count": 2,
   "outputs": [
    {
     "name": "stdout",
     "text": "--2021-06-01 10:21:14--  https://bin.equinox.io/c/4VmDzA7iaHb/ngrok-stable-linux-amd64.zip\nResolving bin.equinox.io (bin.equinox.io)... 35.169.70.242, 52.86.251.107, 107.21.11.91, ...\nConnecting to bin.equinox.io (bin.equinox.io)|35.169.70.242|:443... connected.\nHTTP request sent, awaiting response... 200 OK\nLength: 13832437 (13M) [application/octet-stream]\nSaving to: ‘ngrok-stable-linux-amd64.zip’\n\nngrok-stable-linux- 100%[===================>]  13.19M  48.0MB/s    in 0.3s    \n\n2021-06-01 10:21:15 (48.0 MB/s) - ‘ngrok-stable-linux-amd64.zip’ saved [13832437/13832437]\n\n",
     "output_type": "stream"
    }
   ]
  },
  {
   "cell_type": "code",
   "metadata": {
    "tags": [],
    "cell_id": "00002-6bb74e8e-9054-41be-ad47-c79a4789ed6e",
    "deepnote_to_be_reexecuted": false,
    "source_hash": "ccfb794d",
    "execution_start": 1622542875128,
    "execution_millis": 12,
    "deepnote_cell_type": "code"
   },
   "source": "get_ipython().system_raw('./ngrok http 8501 &')",
   "execution_count": 3,
   "outputs": []
  },
  {
   "cell_type": "code",
   "metadata": {
    "tags": [],
    "cell_id": "00004-4403deb0-de2f-428b-81e0-6d0e42c39e46",
    "deepnote_to_be_reexecuted": false,
    "source_hash": "27586654",
    "execution_start": 1622542875145,
    "execution_millis": 716,
    "deepnote_cell_type": "code"
   },
   "source": "!curl -s http://localhost:4040/api/tunnels | python3 -c \\\n    'import sys, json; print(\"Execute the next cell and the go to the following URL: \" +json.load(sys.stdin)[\"tunnels\"][0][\"public_url\"])'",
   "execution_count": 4,
   "outputs": [
    {
     "name": "stdout",
     "text": "Execute the next cell and the go to the following URL: http://a2ef04b9f116.ngrok.io\r\n",
     "output_type": "stream"
    }
   ]
  },
  {
   "cell_type": "code",
   "metadata": {
    "tags": [],
    "cell_id": "00005-0c764800-425d-43d3-844d-aa711efadba4",
    "deepnote_to_be_reexecuted": false,
    "source_hash": "fcbbed81",
    "execution_start": 1622542875856,
    "execution_millis": 859199,
    "deepnote_cell_type": "code"
   },
   "source": "!streamlit run app.py",
   "outputs": [
    {
     "name": "stdout",
     "text": "\u001b[0m\r\n\u001b[34m\u001b[1m  You can now view your Streamlit app in your browser.\u001b[0m\r\n\u001b[0m\r\n\u001b[34m  Network URL: \u001b[0m\u001b[1mhttp://172.3.44.117:8501\u001b[0m\r\n\u001b[34m  External URL: \u001b[0m\u001b[1mhttp://52.207.244.68:8501\u001b[0m\r\n\u001b[0m\r\n",
     "output_type": "stream"
    }
   ],
   "execution_count": null
  },
  {
   "cell_type": "markdown",
   "source": "<a style='text-decoration:none;line-height:16px;display:flex;color:#5B5B62;padding:10px;justify-content:end;' href='https://deepnote.com?utm_source=created-in-deepnote-cell&projectId=63592523-ebbf-40aa-802d-b9939a22188a' target=\"_blank\">\n<img alt='Created in deepnote.com' style='display:inline;max-height:16px;margin:0px;margin-right:7.5px;' src='data:image/svg+xml;base64,PD94bWwgdmVyc2lvbj0iMS4wIiBlbmNvZGluZz0iVVRGLTgiPz4KPHN2ZyB3aWR0aD0iODBweCIgaGVpZ2h0PSI4MHB4IiB2aWV3Qm94PSIwIDAgODAgODAiIHZlcnNpb249IjEuMSIgeG1sbnM9Imh0dHA6Ly93d3cudzMub3JnLzIwMDAvc3ZnIiB4bWxuczp4bGluaz0iaHR0cDovL3d3dy53My5vcmcvMTk5OS94bGluayI+CiAgICA8IS0tIEdlbmVyYXRvcjogU2tldGNoIDU0LjEgKDc2NDkwKSAtIGh0dHBzOi8vc2tldGNoYXBwLmNvbSAtLT4KICAgIDx0aXRsZT5Hcm91cCAzPC90aXRsZT4KICAgIDxkZXNjPkNyZWF0ZWQgd2l0aCBTa2V0Y2guPC9kZXNjPgogICAgPGcgaWQ9IkxhbmRpbmciIHN0cm9rZT0ibm9uZSIgc3Ryb2tlLXdpZHRoPSIxIiBmaWxsPSJub25lIiBmaWxsLXJ1bGU9ImV2ZW5vZGQiPgogICAgICAgIDxnIGlkPSJBcnRib2FyZCIgdHJhbnNmb3JtPSJ0cmFuc2xhdGUoLTEyMzUuMDAwMDAwLCAtNzkuMDAwMDAwKSI+CiAgICAgICAgICAgIDxnIGlkPSJHcm91cC0zIiB0cmFuc2Zvcm09InRyYW5zbGF0ZSgxMjM1LjAwMDAwMCwgNzkuMDAwMDAwKSI+CiAgICAgICAgICAgICAgICA8cG9seWdvbiBpZD0iUGF0aC0yMCIgZmlsbD0iIzAyNjVCNCIgcG9pbnRzPSIyLjM3NjIzNzYyIDgwIDM4LjA0NzY2NjcgODAgNTcuODIxNzgyMiA3My44MDU3NTkyIDU3LjgyMTc4MjIgMzIuNzU5MjczOSAzOS4xNDAyMjc4IDMxLjY4MzE2ODMiPjwvcG9seWdvbj4KICAgICAgICAgICAgICAgIDxwYXRoIGQ9Ik0zNS4wMDc3MTgsODAgQzQyLjkwNjIwMDcsNzYuNDU0OTM1OCA0Ny41NjQ5MTY3LDcxLjU0MjI2NzEgNDguOTgzODY2LDY1LjI2MTk5MzkgQzUxLjExMjI4OTksNTUuODQxNTg0MiA0MS42NzcxNzk1LDQ5LjIxMjIyODQgMjUuNjIzOTg0Niw0OS4yMTIyMjg0IEMyNS40ODQ5Mjg5LDQ5LjEyNjg0NDggMjkuODI2MTI5Niw0My4yODM4MjQ4IDM4LjY0NzU4NjksMzEuNjgzMTY4MyBMNzIuODcxMjg3MSwzMi41NTQ0MjUgTDY1LjI4MDk3Myw2Ny42NzYzNDIxIEw1MS4xMTIyODk5LDc3LjM3NjE0NCBMMzUuMDA3NzE4LDgwIFoiIGlkPSJQYXRoLTIyIiBmaWxsPSIjMDAyODY4Ij48L3BhdGg+CiAgICAgICAgICAgICAgICA8cGF0aCBkPSJNMCwzNy43MzA0NDA1IEwyNy4xMTQ1MzcsMC4yNTcxMTE0MzYgQzYyLjM3MTUxMjMsLTEuOTkwNzE3MDEgODAsMTAuNTAwMzkyNyA4MCwzNy43MzA0NDA1IEM4MCw2NC45NjA0ODgyIDY0Ljc3NjUwMzgsNzkuMDUwMzQxNCAzNC4zMjk1MTEzLDgwIEM0Ny4wNTUzNDg5LDc3LjU2NzA4MDggNTMuNDE4MjY3Nyw3MC4zMTM2MTAzIDUzLjQxODI2NzcsNTguMjM5NTg4NSBDNTMuNDE4MjY3Nyw0MC4xMjg1NTU3IDM2LjMwMzk1NDQsMzcuNzMwNDQwNSAyNS4yMjc0MTcsMzcuNzMwNDQwNSBDMTcuODQzMDU4NiwzNy43MzA0NDA1IDkuNDMzOTE5NjYsMzcuNzMwNDQwNSAwLDM3LjczMDQ0MDUgWiIgaWQ9IlBhdGgtMTkiIGZpbGw9IiMzNzkzRUYiPjwvcGF0aD4KICAgICAgICAgICAgPC9nPgogICAgICAgIDwvZz4KICAgIDwvZz4KPC9zdmc+' > </img>\nCreated in <span style='font-weight:600;margin-left:4px;'>Deepnote</span></a>",
   "metadata": {
    "tags": [],
    "created_in_deepnote_cell": true,
    "deepnote_cell_type": "markdown"
   }
  }
 ],
 "nbformat": 4,
 "nbformat_minor": 2,
 "metadata": {
  "orig_nbformat": 2,
  "deepnote": {
   "is_reactive": true
  },
  "deepnote_notebook_id": "0de42e96-5457-4567-8ead-c1fac03a3c90",
  "deepnote_execution_queue": [
   {
    "cellId": "00005-0c764800-425d-43d3-844d-aa711efadba4",
    "sessionId": "2bf9e24d-b9a5-4618-ba57-c501ba59e189",
    "msgId": "cc0777b9-7164-4427-80b8-6e5c592dcba8"
   }
  ]
 }
}