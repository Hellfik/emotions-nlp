{
 "cells": [
  {
   "cell_type": "markdown",
   "source": "# Logistic Regression model",
   "metadata": {
    "tags": [],
    "cell_id": "00000-d037ee57-7d0e-4d67-95c7-bc1f9d160b1f",
    "deepnote_cell_type": "markdown"
   }
  },
  {
   "cell_type": "markdown",
   "source": "## 1. Importing modules",
   "metadata": {
    "tags": [],
    "cell_id": "00001-d903f26f-6b9f-489a-880c-cb4b93d8b0a2",
    "deepnote_cell_type": "text-cell-h2"
   }
  },
  {
   "cell_type": "code",
   "metadata": {
    "tags": [],
    "cell_id": "00002-ca013f5b-af44-4699-9b72-3a329a3f7c39",
    "deepnote_to_be_reexecuted": false,
    "source_hash": "30b44315",
    "execution_start": 1621407798459,
    "execution_millis": 3031,
    "deepnote_cell_type": "code"
   },
   "source": "import pandas as pd\n\nimport sys\nsys.path.insert(0, \"/work/emotions-nlp\")\n\nfrom src.utils.functions import *",
   "execution_count": null,
   "outputs": []
  },
  {
   "cell_type": "markdown",
   "source": "## 2. Loading the clean dataset",
   "metadata": {
    "tags": [],
    "cell_id": "00001-2f70fa29-cc08-497d-bbf8-0ea67e4c69a3",
    "deepnote_cell_type": "markdown"
   }
  },
  {
   "cell_type": "code",
   "metadata": {
    "tags": [],
    "cell_id": "00004-904a421e-8412-4521-ada1-79b08bb73999",
    "deepnote_to_be_reexecuted": false,
    "source_hash": "f4d6560",
    "execution_start": 1621407804265,
    "execution_millis": 321,
    "deepnote_cell_type": "code"
   },
   "source": "df = load_dataset('/work/emotions-nlp/Data/intermediate_data/clean_data.csv')",
   "execution_count": null,
   "outputs": []
  },
  {
   "cell_type": "code",
   "metadata": {
    "tags": [],
    "cell_id": "00005-995b372e-c168-45fc-8617-9e44b048a98c",
    "deepnote_to_be_reexecuted": false,
    "source_hash": "c085b6ba",
    "execution_start": 1621407807881,
    "execution_millis": 65,
    "deepnote_cell_type": "code"
   },
   "source": "df.head()",
   "execution_count": null,
   "outputs": [
    {
     "output_type": "execute_result",
     "execution_count": 3,
     "data": {
      "application/vnd.deepnote.dataframe.v2+json": {
       "row_count": 5,
       "column_count": 8,
       "columns": [
        {
         "name": "Unnamed: 0",
         "dtype": "int64",
         "stats": {
          "unique_count": 5,
          "nan_count": 0,
          "min": "0",
          "max": "4",
          "histogram": [
           {
            "bin_start": 0,
            "bin_end": 0.4,
            "count": 1
           },
           {
            "bin_start": 0.4,
            "bin_end": 0.8,
            "count": 0
           },
           {
            "bin_start": 0.8,
            "bin_end": 1.2000000000000002,
            "count": 1
           },
           {
            "bin_start": 1.2000000000000002,
            "bin_end": 1.6,
            "count": 0
           },
           {
            "bin_start": 1.6,
            "bin_end": 2,
            "count": 0
           },
           {
            "bin_start": 2,
            "bin_end": 2.4000000000000004,
            "count": 1
           },
           {
            "bin_start": 2.4000000000000004,
            "bin_end": 2.8000000000000003,
            "count": 0
           },
           {
            "bin_start": 2.8000000000000003,
            "bin_end": 3.2,
            "count": 1
           },
           {
            "bin_start": 3.2,
            "bin_end": 3.6,
            "count": 0
           },
           {
            "bin_start": 3.6,
            "bin_end": 4,
            "count": 1
           }
          ]
         }
        },
        {
         "name": "Text",
         "dtype": "object",
         "stats": {
          "unique_count": 5,
          "nan_count": 0,
          "categories": [
           {
            "name": "i didnt feel humiliated",
            "count": 1
           },
           {
            "name": "i can go from feeling so hopeless to so damned hopeful just from being around someone who cares and is awake",
            "count": 1
           },
           {
            "name": "3 others",
            "count": 3
           }
          ]
         }
        },
        {
         "name": "Emotion",
         "dtype": "object",
         "stats": {
          "unique_count": 3,
          "nan_count": 0,
          "categories": [
           {
            "name": "sadness",
            "count": 2
           },
           {
            "name": "anger",
            "count": 2
           },
           {
            "name": "love",
            "count": 1
           }
          ]
         }
        },
        {
         "name": "clean_text",
         "dtype": "object",
         "stats": {
          "unique_count": 5,
          "nan_count": 0,
          "categories": [
           {
            "name": "i did not feel humiliated",
            "count": 1
           },
           {
            "name": "i can go from feeling so hopeless to so damned hopeful just from being around someone who cares and is awake",
            "count": 1
           },
           {
            "name": "3 others",
            "count": 3
           }
          ]
         }
        },
        {
         "name": "tokenized",
         "dtype": "object",
         "stats": {
          "unique_count": 5,
          "nan_count": 0,
          "categories": [
           {
            "name": "['i', 'did', 'not', 'feel', 'humiliated']",
            "count": 1
           },
           {
            "name": "['i', 'can', 'go', 'from', 'feeling', 'so', 'hopeless', 'to', 'so', 'damned', 'hopeful', 'just', 'from', 'being', 'around', 'someone', 'who', 'cares', 'and', 'is', 'awake']",
            "count": 1
           },
           {
            "name": "3 others",
            "count": 3
           }
          ]
         }
        },
        {
         "name": "stopwords_removed",
         "dtype": "object",
         "stats": {
          "unique_count": 5,
          "nan_count": 0,
          "categories": [
           {
            "name": "['not', 'feel', 'humiliated']",
            "count": 1
           },
           {
            "name": "['go', 'feeling', 'hopeless', 'damned', 'hopeful', 'around', 'someone', 'cares', 'awake']",
            "count": 1
           },
           {
            "name": "3 others",
            "count": 3
           }
          ]
         }
        },
        {
         "name": "porter_stemmer",
         "dtype": "object",
         "stats": {
          "unique_count": 5,
          "nan_count": 0,
          "categories": [
           {
            "name": "['not', 'feel', 'humili']",
            "count": 1
           },
           {
            "name": "['go', 'feel', 'hopeless', 'damn', 'hope', 'around', 'someon', 'care', 'awak']",
            "count": 1
           },
           {
            "name": "3 others",
            "count": 3
           }
          ]
         }
        },
        {
         "name": "binary_emotion",
         "dtype": "int64",
         "stats": {
          "unique_count": 2,
          "nan_count": 0,
          "min": "0",
          "max": "1",
          "histogram": [
           {
            "bin_start": 0,
            "bin_end": 0.1,
            "count": 4
           },
           {
            "bin_start": 0.1,
            "bin_end": 0.2,
            "count": 0
           },
           {
            "bin_start": 0.2,
            "bin_end": 0.30000000000000004,
            "count": 0
           },
           {
            "bin_start": 0.30000000000000004,
            "bin_end": 0.4,
            "count": 0
           },
           {
            "bin_start": 0.4,
            "bin_end": 0.5,
            "count": 0
           },
           {
            "bin_start": 0.5,
            "bin_end": 0.6000000000000001,
            "count": 0
           },
           {
            "bin_start": 0.6000000000000001,
            "bin_end": 0.7000000000000001,
            "count": 0
           },
           {
            "bin_start": 0.7000000000000001,
            "bin_end": 0.8,
            "count": 0
           },
           {
            "bin_start": 0.8,
            "bin_end": 0.9,
            "count": 0
           },
           {
            "bin_start": 0.9,
            "bin_end": 1,
            "count": 1
           }
          ]
         }
        },
        {
         "name": "_deepnote_index_column",
         "dtype": "int64"
        }
       ],
       "rows_top": [
        {
         "Unnamed: 0": 0,
         "Text": "i didnt feel humiliated",
         "Emotion": "sadness",
         "clean_text": "i did not feel humiliated",
         "tokenized": "['i', 'did', 'not', 'feel', 'humiliated']",
         "stopwords_removed": "['not', 'feel', 'humiliated']",
         "porter_stemmer": "['not', 'feel', 'humili']",
         "binary_emotion": 0,
         "_deepnote_index_column": 0
        },
        {
         "Unnamed: 0": 1,
         "Text": "i can go from feeling so hopeless to so damned hopeful just from being around someone who cares and is awake",
         "Emotion": "sadness",
         "clean_text": "i can go from feeling so hopeless to so damned hopeful just from being around someone who cares and is awake",
         "tokenized": "['i', 'can', 'go', 'from', 'feeling', 'so', 'hopeless', 'to', 'so', 'damned', 'hopeful', 'just', 'from', 'being', 'around', 'someone', 'who', 'cares', 'and', 'is', 'awake']",
         "stopwords_removed": "['go', 'feeling', 'hopeless', 'damned', 'hopeful', 'around', 'someone', 'cares', 'awake']",
         "porter_stemmer": "['go', 'feel', 'hopeless', 'damn', 'hope', 'around', 'someon', 'care', 'awak']",
         "binary_emotion": 0,
         "_deepnote_index_column": 1
        },
        {
         "Unnamed: 0": 2,
         "Text": "im grabbing a minute to post i feel greedy wrong",
         "Emotion": "anger",
         "clean_text": "i am grabbing a minute to post i feel greedy wrong",
         "tokenized": "['i', 'am', 'grabbing', 'a', 'minute', 'to', 'post', 'i', 'feel', 'greedy', 'wrong']",
         "stopwords_removed": "['grabbing', 'minute', 'post', 'feel', 'greedy', 'wrong']",
         "porter_stemmer": "['grab', 'minut', 'post', 'feel', 'greedi', 'wrong']",
         "binary_emotion": 0,
         "_deepnote_index_column": 2
        },
        {
         "Unnamed: 0": 3,
         "Text": "i am ever feeling nostalgic about the fireplace i will know that it is still on the property",
         "Emotion": "love",
         "clean_text": "i am ever feeling nostalgic about the fireplace i will know that it is still on the property",
         "tokenized": "['i', 'am', 'ever', 'feeling', 'nostalgic', 'about', 'the', 'fireplace', 'i', 'will', 'know', 'that', 'it', 'is', 'still', 'on', 'the', 'property']",
         "stopwords_removed": "['ever', 'feeling', 'nostalgic', 'fireplace', 'know', 'still', 'property']",
         "porter_stemmer": "['ever', 'feel', 'nostalg', 'fireplac', 'know', 'still', 'properti']",
         "binary_emotion": 1,
         "_deepnote_index_column": 3
        },
        {
         "Unnamed: 0": 4,
         "Text": "i am feeling grouchy",
         "Emotion": "anger",
         "clean_text": "i am feeling grouchy",
         "tokenized": "['i', 'am', 'feeling', 'grouchy']",
         "stopwords_removed": "['feeling', 'grouchy']",
         "porter_stemmer": "['feel', 'grouchi']",
         "binary_emotion": 0,
         "_deepnote_index_column": 4
        }
       ],
       "rows_bottom": null
      },
      "text/plain": "   Unnamed: 0                                               Text  Emotion  \\\n0           0                            i didnt feel humiliated  sadness   \n1           1  i can go from feeling so hopeless to so damned...  sadness   \n2           2   im grabbing a minute to post i feel greedy wrong    anger   \n3           3  i am ever feeling nostalgic about the fireplac...     love   \n4           4                               i am feeling grouchy    anger   \n\n                                          clean_text  \\\n0                          i did not feel humiliated   \n1  i can go from feeling so hopeless to so damned...   \n2  i am grabbing a minute to post i feel greedy w...   \n3  i am ever feeling nostalgic about the fireplac...   \n4                               i am feeling grouchy   \n\n                                           tokenized  \\\n0          ['i', 'did', 'not', 'feel', 'humiliated']   \n1  ['i', 'can', 'go', 'from', 'feeling', 'so', 'h...   \n2  ['i', 'am', 'grabbing', 'a', 'minute', 'to', '...   \n3  ['i', 'am', 'ever', 'feeling', 'nostalgic', 'a...   \n4                  ['i', 'am', 'feeling', 'grouchy']   \n\n                                   stopwords_removed  \\\n0                      ['not', 'feel', 'humiliated']   \n1  ['go', 'feeling', 'hopeless', 'damned', 'hopef...   \n2  ['grabbing', 'minute', 'post', 'feel', 'greedy...   \n3  ['ever', 'feeling', 'nostalgic', 'fireplace', ...   \n4                             ['feeling', 'grouchy']   \n\n                                      porter_stemmer  binary_emotion  \n0                          ['not', 'feel', 'humili']               0  \n1  ['go', 'feel', 'hopeless', 'damn', 'hope', 'ar...               0  \n2  ['grab', 'minut', 'post', 'feel', 'greedi', 'w...               0  \n3  ['ever', 'feel', 'nostalg', 'fireplac', 'know'...               1  \n4                                ['feel', 'grouchi']               0  ",
      "text/html": "<div>\n<style scoped>\n    .dataframe tbody tr th:only-of-type {\n        vertical-align: middle;\n    }\n\n    .dataframe tbody tr th {\n        vertical-align: top;\n    }\n\n    .dataframe thead th {\n        text-align: right;\n    }\n</style>\n<table border=\"1\" class=\"dataframe\">\n  <thead>\n    <tr style=\"text-align: right;\">\n      <th></th>\n      <th>Unnamed: 0</th>\n      <th>Text</th>\n      <th>Emotion</th>\n      <th>clean_text</th>\n      <th>tokenized</th>\n      <th>stopwords_removed</th>\n      <th>porter_stemmer</th>\n      <th>binary_emotion</th>\n    </tr>\n  </thead>\n  <tbody>\n    <tr>\n      <th>0</th>\n      <td>0</td>\n      <td>i didnt feel humiliated</td>\n      <td>sadness</td>\n      <td>i did not feel humiliated</td>\n      <td>['i', 'did', 'not', 'feel', 'humiliated']</td>\n      <td>['not', 'feel', 'humiliated']</td>\n      <td>['not', 'feel', 'humili']</td>\n      <td>0</td>\n    </tr>\n    <tr>\n      <th>1</th>\n      <td>1</td>\n      <td>i can go from feeling so hopeless to so damned...</td>\n      <td>sadness</td>\n      <td>i can go from feeling so hopeless to so damned...</td>\n      <td>['i', 'can', 'go', 'from', 'feeling', 'so', 'h...</td>\n      <td>['go', 'feeling', 'hopeless', 'damned', 'hopef...</td>\n      <td>['go', 'feel', 'hopeless', 'damn', 'hope', 'ar...</td>\n      <td>0</td>\n    </tr>\n    <tr>\n      <th>2</th>\n      <td>2</td>\n      <td>im grabbing a minute to post i feel greedy wrong</td>\n      <td>anger</td>\n      <td>i am grabbing a minute to post i feel greedy w...</td>\n      <td>['i', 'am', 'grabbing', 'a', 'minute', 'to', '...</td>\n      <td>['grabbing', 'minute', 'post', 'feel', 'greedy...</td>\n      <td>['grab', 'minut', 'post', 'feel', 'greedi', 'w...</td>\n      <td>0</td>\n    </tr>\n    <tr>\n      <th>3</th>\n      <td>3</td>\n      <td>i am ever feeling nostalgic about the fireplac...</td>\n      <td>love</td>\n      <td>i am ever feeling nostalgic about the fireplac...</td>\n      <td>['i', 'am', 'ever', 'feeling', 'nostalgic', 'a...</td>\n      <td>['ever', 'feeling', 'nostalgic', 'fireplace', ...</td>\n      <td>['ever', 'feel', 'nostalg', 'fireplac', 'know'...</td>\n      <td>1</td>\n    </tr>\n    <tr>\n      <th>4</th>\n      <td>4</td>\n      <td>i am feeling grouchy</td>\n      <td>anger</td>\n      <td>i am feeling grouchy</td>\n      <td>['i', 'am', 'feeling', 'grouchy']</td>\n      <td>['feeling', 'grouchy']</td>\n      <td>['feel', 'grouchi']</td>\n      <td>0</td>\n    </tr>\n  </tbody>\n</table>\n</div>"
     },
     "metadata": {}
    }
   ]
  },
  {
   "cell_type": "code",
   "metadata": {
    "tags": [],
    "cell_id": "00005-1b13e0ca-6f21-4392-a8ad-674120b8c2d4",
    "deepnote_to_be_reexecuted": false,
    "source_hash": "799f988b",
    "execution_start": 1621407826909,
    "execution_millis": 2,
    "deepnote_cell_type": "code"
   },
   "source": "# Explicative variables\nX = df['porter_stemmer']\n# Target variable\ny = df['binary_emotion']",
   "execution_count": null,
   "outputs": []
  },
  {
   "cell_type": "markdown",
   "source": "## 3. Transforming tokens to vectors",
   "metadata": {
    "tags": [],
    "cell_id": "00010-c2e79735-f2e5-495a-a0e0-ce314be08674",
    "deepnote_cell_type": "text-cell-h2"
   }
  },
  {
   "cell_type": "code",
   "metadata": {
    "tags": [],
    "cell_id": "00011-ef9e1523-d51b-4f7e-b170-2b626cc146b2",
    "deepnote_to_be_reexecuted": false,
    "source_hash": "bb34dc9c",
    "execution_start": 1621407830107,
    "execution_millis": 750,
    "deepnote_cell_type": "code"
   },
   "source": "from sklearn.feature_extraction.text import CountVectorizer\n\nX, countvectorizer = cv(X)",
   "execution_count": null,
   "outputs": [
    {
     "name": "stdout",
     "text": "count vectorize with 1000 features\n",
     "output_type": "stream"
    }
   ]
  },
  {
   "cell_type": "code",
   "metadata": {
    "tags": [],
    "cell_id": "00012-78b390a4-c38a-4575-82aa-107f54c81434",
    "deepnote_to_be_reexecuted": false,
    "source_hash": "b2696ff6",
    "execution_start": 1621407837356,
    "execution_millis": 8,
    "deepnote_cell_type": "code"
   },
   "source": "X",
   "execution_count": null,
   "outputs": [
    {
     "output_type": "execute_result",
     "execution_count": 6,
     "data": {
      "text/plain": "array([[0, 0, 0, ..., 0, 0, 0],\n       [0, 0, 0, ..., 0, 0, 0],\n       [0, 0, 0, ..., 0, 0, 0],\n       ...,\n       [0, 0, 0, ..., 0, 0, 0],\n       [0, 0, 0, ..., 0, 0, 0],\n       [0, 0, 0, ..., 0, 0, 0]])"
     },
     "metadata": {}
    }
   ]
  },
  {
   "cell_type": "code",
   "metadata": {
    "tags": [],
    "cell_id": "00013-af69ff7c-8175-4b93-8fcc-63929d2edb2a",
    "deepnote_to_be_reexecuted": false,
    "source_hash": "83f8c40",
    "execution_start": 1621407839886,
    "execution_millis": 0,
    "deepnote_cell_type": "code"
   },
   "source": "X.shape",
   "execution_count": null,
   "outputs": [
    {
     "output_type": "execute_result",
     "execution_count": 7,
     "data": {
      "text/plain": "(21456, 1000)"
     },
     "metadata": {}
    }
   ]
  },
  {
   "cell_type": "markdown",
   "source": "## 4. Division du jeu de données en training/validation/testing sets",
   "metadata": {
    "tags": [],
    "cell_id": "00013-0139414f-1b17-4861-8c9a-2dfc6f21f4cc",
    "deepnote_cell_type": "markdown"
   }
  },
  {
   "cell_type": "code",
   "metadata": {
    "tags": [],
    "cell_id": "00013-7fba7cf7-ebe6-4419-9f8e-fe774d41d4eb",
    "deepnote_to_be_reexecuted": false,
    "source_hash": "9c7f17e7",
    "execution_start": 1621407850810,
    "execution_millis": 67,
    "deepnote_cell_type": "code"
   },
   "source": "from sklearn.model_selection import train_test_split\n\nxtrain, xtest, ytrain, ytest = train_test_split(X, y, train_size=0.8)",
   "execution_count": null,
   "outputs": []
  },
  {
   "cell_type": "code",
   "metadata": {
    "tags": [],
    "cell_id": "00015-1d7b99be-49de-46ea-a7e4-e0e8bbfa6cbf",
    "deepnote_to_be_reexecuted": false,
    "source_hash": "8e6eb51c",
    "execution_start": 1621407852926,
    "execution_millis": 9495,
    "deepnote_cell_type": "code"
   },
   "source": "from sklearn.linear_model import LogisticRegression\n\nclf = LogisticRegression(multi_class='multinomial',penalty='l2')\nclf.fit(xtrain, ytrain)\n\nscore = clf.score(xtest, ytest)",
   "execution_count": null,
   "outputs": [
    {
     "name": "stderr",
     "text": "/shared-libs/python3.7/py/lib/python3.7/site-packages/sklearn/linear_model/_logistic.py:765: ConvergenceWarning: lbfgs failed to converge (status=1):\nSTOP: TOTAL NO. of ITERATIONS REACHED LIMIT.\n\nIncrease the number of iterations (max_iter) or scale the data as shown in:\n    https://scikit-learn.org/stable/modules/preprocessing.html\nPlease also refer to the documentation for alternative solver options:\n    https://scikit-learn.org/stable/modules/linear_model.html#logistic-regression\n  extra_warning_msg=_LOGISTIC_SOLVER_CONVERGENCE_MSG)\n",
     "output_type": "stream"
    }
   ]
  },
  {
   "cell_type": "code",
   "metadata": {
    "tags": [],
    "cell_id": "00017-d5580060-1ad5-410e-a204-82b29e1c5581",
    "deepnote_to_be_reexecuted": false,
    "source_hash": "d1e95271",
    "execution_start": 1621407862415,
    "execution_millis": 43,
    "deepnote_cell_type": "code"
   },
   "source": "ypred = clf.predict(xtest)",
   "execution_count": null,
   "outputs": []
  },
  {
   "cell_type": "code",
   "metadata": {
    "tags": [],
    "cell_id": "00019-54e7b288-be65-4f7e-bf54-ac367a4347f4",
    "deepnote_to_be_reexecuted": false,
    "source_hash": "2bf5e9c9",
    "execution_start": 1621407865434,
    "execution_millis": 29,
    "deepnote_cell_type": "code"
   },
   "source": "from sklearn.metrics import classification_report\nfrom sklearn.metrics import confusion_matrix\nfrom sklearn.metrics import roc_auc_score\nfrom sklearn.metrics import roc_curve\n\nprint(classification_report(ytest, ypred))",
   "execution_count": null,
   "outputs": [
    {
     "name": "stdout",
     "text": "              precision    recall  f1-score   support\n\n           0       0.93      0.95      0.94      2547\n           1       0.92      0.90      0.91      1745\n\n    accuracy                           0.93      4292\n   macro avg       0.93      0.93      0.93      4292\nweighted avg       0.93      0.93      0.93      4292\n\n",
     "output_type": "stream"
    }
   ]
  },
  {
   "cell_type": "code",
   "metadata": {
    "tags": [],
    "cell_id": "00019-bffd355a-0cb0-4a1a-92ff-25ba78c8979c",
    "deepnote_to_be_reexecuted": false,
    "source_hash": "bfc7b9b5",
    "execution_start": 1621408353969,
    "execution_millis": 1158,
    "deepnote_cell_type": "code"
   },
   "source": "from sklearn.metrics import multilabel_confusion_matrix\nshow_matrix_heatmap(multilabel_confusion_matrix(ytest, ypred))",
   "execution_count": null,
   "outputs": [
    {
     "data": {
      "text/plain": "<Figure size 432x288 with 2 Axes>",
      "image/png": "[encoded data removed]"
     },
     "metadata": {
      "needs_background": "light",
      "image/png": {
       "width": 359,
       "height": 264
      }
     },
     "output_type": "display_data"
    },
    {
     "data": {
      "text/plain": "<Figure size 432x288 with 2 Axes>",
      "image/png": "[encoded data removed]"
     },
     "metadata": {
      "needs_background": "light",
      "image/png": {
       "width": 359,
       "height": 264
      }
     },
     "output_type": "display_data"
    }
   ]
  },
  {
   "cell_type": "code",
   "metadata": {
    "tags": [],
    "cell_id": "00020-ddbfc225-d79d-43a0-bac5-b1e9fc83de57",
    "deepnote_to_be_reexecuted": false,
    "source_hash": "a65ae4eb",
    "execution_start": 1621344273708,
    "execution_millis": 132,
    "deepnote_cell_type": "code"
   },
   "source": "print(classification_report(ytest, ypred))",
   "execution_count": null,
   "outputs": [
    {
     "name": "stdout",
     "text": "              precision    recall  f1-score   support\n\n           0       0.13      0.13      0.13       566\n           1       0.11      0.11      0.11       542\n           2       0.34      0.36      0.35      1436\n           3       0.07      0.06      0.07       316\n           4       0.28      0.30      0.29      1234\n           5       0.07      0.05      0.06       198\n\n    accuracy                           0.24      4292\n   macro avg       0.17      0.17      0.17      4292\nweighted avg       0.24      0.24      0.24      4292\n\n",
     "output_type": "stream"
    }
   ]
  },
  {
   "cell_type": "markdown",
   "source": "<a style='text-decoration:none;line-height:16px;display:flex;color:#5B5B62;padding:10px;justify-content:end;' href='https://deepnote.com?utm_source=created-in-deepnote-cell&projectId=63592523-ebbf-40aa-802d-b9939a22188a' target=\"_blank\">\n<img alt='Created in deepnote.com' style='display:inline;max-height:16px;margin:0px;margin-right:7.5px;' src='data:image/svg+xml;base64,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' > </img>\nCreated in <span style='font-weight:600;margin-left:4px;'>Deepnote</span></a>",
   "metadata": {
    "tags": [],
    "created_in_deepnote_cell": true,
    "deepnote_cell_type": "markdown"
   }
  }
 ],
 "nbformat": 4,
 "nbformat_minor": 2,
 "metadata": {
  "orig_nbformat": 2,
  "deepnote": {
   "is_reactive": false
  },
  "deepnote_notebook_id": "d23ab2fc-2fd3-4663-bc0f-a8dfc5a2ce43",
  "deepnote_execution_queue": []
 }
}